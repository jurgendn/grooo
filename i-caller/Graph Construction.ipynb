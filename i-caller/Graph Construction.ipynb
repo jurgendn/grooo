{
 "cells": [
  {
   "cell_type": "code",
   "execution_count": 252,
   "metadata": {
    "ExecuteTime": {
     "end_time": "2021-04-10T08:06:57.806762Z",
     "start_time": "2021-04-10T08:06:57.797860Z"
    }
   },
   "outputs": [],
   "source": [
    "from igraph import Graph\n",
    "import sqlalchemy as sql\n",
    "import pandas as pd\n",
    "import matplotlib.pyplot as plt\n",
    "import numpy as np\n",
    "import scipy.stats as ss\n",
    "\n",
    "from collections import Counter, OrderedDict\n",
    "from itertools import chain"
   ]
  },
  {
   "cell_type": "code",
   "execution_count": 238,
   "metadata": {
    "ExecuteTime": {
     "end_time": "2021-04-10T08:01:01.007104Z",
     "start_time": "2021-04-10T08:01:00.999260Z"
    }
   },
   "outputs": [],
   "source": [
    "plt.style.use('ggplot')"
   ]
  },
  {
   "cell_type": "markdown",
   "metadata": {},
   "source": [
    "# Create connection to the database"
   ]
  },
  {
   "cell_type": "code",
   "execution_count": 102,
   "metadata": {
    "ExecuteTime": {
     "end_time": "2021-04-10T07:08:24.719592Z",
     "start_time": "2021-04-10T07:08:24.711340Z"
    }
   },
   "outputs": [],
   "source": [
    "engine = sql.create_engine('sqlite:///database.db', encoding='utf8')\n",
    "conn = engine.connect()\n",
    "\n",
    "metadata = sql.MetaData()"
   ]
  },
  {
   "cell_type": "code",
   "execution_count": 104,
   "metadata": {
    "ExecuteTime": {
     "end_time": "2021-04-10T07:08:47.119963Z",
     "start_time": "2021-04-10T07:08:47.116437Z"
    }
   },
   "outputs": [],
   "source": [
    "phone_list = sql.Table('PhoneLabel',\n",
    "                       metadata,\n",
    "                       autoload=True,\n",
    "                       autoload_with=engine)\n",
    "edges_list = sql.Table('SourceTargetTable',\n",
    "                       metadata,\n",
    "                       autoload=True,\n",
    "                       autoload_with=engine)"
   ]
  },
  {
   "cell_type": "markdown",
   "metadata": {},
   "source": [
    "# Query from PhoneLabel table to get vertices"
   ]
  },
  {
   "cell_type": "code",
   "execution_count": 4,
   "metadata": {
    "ExecuteTime": {
     "end_time": "2021-04-10T06:11:15.908176Z",
     "start_time": "2021-04-10T06:11:13.265729Z"
    }
   },
   "outputs": [],
   "source": [
    "query = sql.select([phone_list])\n",
    "\n",
    "users_list = pd.DataFrame(conn.execute(query).fetchall(),\n",
    "                          columns=['Id', 'Name', 'Type', 'IsMember'])"
   ]
  },
  {
   "cell_type": "code",
   "execution_count": 5,
   "metadata": {
    "ExecuteTime": {
     "end_time": "2021-04-10T06:11:16.003558Z",
     "start_time": "2021-04-10T06:11:15.977036Z"
    }
   },
   "outputs": [],
   "source": [
    "name = users_list['Name'].values.tolist()\n",
    "types = users_list['Type'].values.tolist()\n",
    "is_member = users_list['IsMember'].values.tolist()"
   ]
  },
  {
   "cell_type": "markdown",
   "metadata": {},
   "source": [
    "# Query from SourceEdgeTable to get edges"
   ]
  },
  {
   "cell_type": "code",
   "execution_count": 106,
   "metadata": {
    "ExecuteTime": {
     "end_time": "2021-04-10T07:10:30.723599Z",
     "start_time": "2021-04-10T07:10:28.686260Z"
    }
   },
   "outputs": [],
   "source": [
    "query = sql.select([\n",
    "    edges_list.columns.Source, edges_list.columns.Target,\n",
    "    sql.func.sum(edges_list.columns.Duration)\n",
    "]).where(edges_list.columns.EdgeType == 1).group_by(edges_list.columns.Source,\n",
    "                                                    edges_list.columns.Target)\n",
    "\n",
    "edges_df = pd.DataFrame(conn.execute(query).fetchall(),\n",
    "                        columns=['Source', 'Target', 'Duration'])"
   ]
  },
  {
   "cell_type": "code",
   "execution_count": 108,
   "metadata": {
    "ExecuteTime": {
     "end_time": "2021-04-10T07:10:55.368661Z",
     "start_time": "2021-04-10T07:10:54.670465Z"
    }
   },
   "outputs": [],
   "source": [
    "edges = pd.DataFrame(edges_df, columns=['Source', 'Target']).values.tolist()\n",
    "duration = edges_df['Duration'].values.tolist()"
   ]
  },
  {
   "cell_type": "code",
   "execution_count": 111,
   "metadata": {
    "ExecuteTime": {
     "end_time": "2021-04-10T07:11:29.885454Z",
     "start_time": "2021-04-10T07:11:29.828069Z"
    }
   },
   "outputs": [],
   "source": [
    "edges = list(map(tuple, edges))"
   ]
  },
  {
   "cell_type": "code",
   "execution_count": 9,
   "metadata": {
    "ExecuteTime": {
     "end_time": "2021-04-10T06:11:27.010856Z",
     "start_time": "2021-04-10T06:11:27.006288Z"
    }
   },
   "outputs": [],
   "source": [
    "conn.close()"
   ]
  },
  {
   "cell_type": "markdown",
   "metadata": {},
   "source": [
    "# Graph Construction"
   ]
  },
  {
   "cell_type": "code",
   "execution_count": 180,
   "metadata": {
    "ExecuteTime": {
     "end_time": "2021-04-10T07:42:24.827148Z",
     "start_time": "2021-04-10T07:42:24.337355Z"
    }
   },
   "outputs": [],
   "source": [
    "g = Graph(directed=True)\n",
    "\n",
    "g.add_vertices(name, attributes={'Type': types, 'IsMember': is_member})\n",
    "g.add_edges(edges, attributes={'weights': duration})"
   ]
  },
  {
   "cell_type": "code",
   "execution_count": 184,
   "metadata": {
    "ExecuteTime": {
     "end_time": "2021-04-10T07:42:48.892855Z",
     "start_time": "2021-04-10T07:42:48.753629Z"
    }
   },
   "outputs": [],
   "source": [
    "zero_edges = [e.index for e in g.es if e['weights']==0]\n",
    "g.delete_edges(zero_edges)"
   ]
  },
  {
   "cell_type": "code",
   "execution_count": 181,
   "metadata": {
    "ExecuteTime": {
     "end_time": "2021-04-10T07:42:27.408300Z",
     "start_time": "2021-04-10T07:42:27.000522Z"
    }
   },
   "outputs": [],
   "source": [
    "vs_deg_0 = [v.index for v in g.vs if v.degree() == 0]\n",
    "g.delete_vertices(vs_deg_0)"
   ]
  },
  {
   "cell_type": "markdown",
   "metadata": {},
   "source": [
    "# Set Weights"
   ]
  },
  {
   "cell_type": "code",
   "execution_count": 182,
   "metadata": {
    "ExecuteTime": {
     "end_time": "2021-04-10T07:42:30.826381Z",
     "start_time": "2021-04-10T07:42:30.820597Z"
    }
   },
   "outputs": [],
   "source": [
    "query = sql.select([\n",
    "    edges_list.columns.Source,\n",
    "    sql.func.sum(edges_list.columns.Duration)\n",
    "]).where(edges_list.columns.EdgeType == 1).group_by(edges_list.columns.Source)\n",
    "\n",
    "total_duration_users = conn.execute(query).fetchall()"
   ]
  },
  {
   "cell_type": "code",
   "execution_count": 155,
   "metadata": {
    "ExecuteTime": {
     "end_time": "2021-04-10T07:39:20.089850Z",
     "start_time": "2021-04-10T07:39:20.021068Z"
    }
   },
   "outputs": [],
   "source": [
    "total_duration_users = dict(total_duration_users)"
   ]
  },
  {
   "cell_type": "code",
   "execution_count": 185,
   "metadata": {
    "ExecuteTime": {
     "end_time": "2021-04-10T07:42:53.508927Z",
     "start_time": "2021-04-10T07:42:53.280050Z"
    }
   },
   "outputs": [],
   "source": [
    "for e in g.es:\n",
    "    source = g.vs[e.source]['name']\n",
    "    e['weights'] = e['weights']/total_duration_users[source]"
   ]
  },
  {
   "cell_type": "code",
   "execution_count": 241,
   "metadata": {
    "ExecuteTime": {
     "end_time": "2021-04-10T08:02:17.415650Z",
     "start_time": "2021-04-10T08:02:14.062220Z"
    }
   },
   "outputs": [],
   "source": [
    "# Save the Graph to CallRank.graphml\n",
    "\n",
    "g.write_graphml('summary/CallRank.graphml')"
   ]
  },
  {
   "cell_type": "markdown",
   "metadata": {},
   "source": [
    "# Results"
   ]
  },
  {
   "cell_type": "code",
   "execution_count": 157,
   "metadata": {
    "ExecuteTime": {
     "end_time": "2021-04-10T07:39:24.093691Z",
     "start_time": "2021-04-10T07:39:23.797417Z"
    }
   },
   "outputs": [],
   "source": [
    "trusted_nodes = [v.index for v in g.vs if v['Type'] == 0]\n",
    "\n",
    "advert_spam = [v.index for v in g.vs if v['Type'] == 1]\n",
    "loan_spam = [v.index for v in g.vs if v['Type'] == 2]\n",
    "debt_spam = [v.index for v in g.vs if v['Type'] == 3]\n",
    "cheat_spam = [v.index for v in g.vs if v['Type'] == 4]\n",
    "estate_spam = [v.index for v in g.vs if v['Type'] == 5]\n",
    "others_spam = [v.index for v in g.vs if v['Type'] == 6]"
   ]
  },
  {
   "cell_type": "code",
   "execution_count": 267,
   "metadata": {
    "ExecuteTime": {
     "end_time": "2021-04-10T08:27:14.356217Z",
     "start_time": "2021-04-10T08:27:13.737171Z"
    }
   },
   "outputs": [],
   "source": [
    "trusted_nodes_rank = [g.pagerank(trusted_nodes, weights=g.es['weights'])][0]\n",
    "\n",
    "advert_spam_rank = [g.personalized_pagerank(advert_spam, weights=g.es['weights'])][0]\n",
    "loan_spam_rank = [g.personalized_pagerank(loan_spam, weights=g.es['weights'])][0]\n",
    "debt_spam_rank = [g.personalized_pagerank(debt_spam, weights=g.es['weights'])][0]\n",
    "cheat_spam_rank = [g.personalized_pagerank(cheat_spam, weights=g.es['weights'])][0]\n",
    "estate_spam_rank = [g.personalized_pagerank(cheat_spam, weights=g.es['weights'])][0]\n",
    "others_spam_rank = [g.personalized_pagerank(others_spam, weights=g.es['weights'])][0]"
   ]
  },
  {
   "cell_type": "code",
   "execution_count": 283,
   "metadata": {
    "ExecuteTime": {
     "end_time": "2021-04-10T08:43:10.720787Z",
     "start_time": "2021-04-10T08:43:10.714627Z"
    }
   },
   "outputs": [],
   "source": [
    "def scale_up(sample, scale_factor = 1e5):\n",
    "    return list(map(lambda x: x*scale_factor, sample))"
   ]
  },
  {
   "cell_type": "code",
   "execution_count": 284,
   "metadata": {
    "ExecuteTime": {
     "end_time": "2021-04-10T08:43:14.995611Z",
     "start_time": "2021-04-10T08:43:12.759412Z"
    },
    "scrolled": true
   },
   "outputs": [
    {
     "data": {
      "image/png": "[encoded data removed]",
      "text/plain": [
       "<Figure size 432x288 with 1 Axes>"
      ]
     },
     "metadata": {},
     "output_type": "display_data"
    }
   ],
   "source": [
    "legend = ['Trusted', 'Estate', 'Loan', 'Debt', 'Advert', 'Cheat', 'Others']\n",
    "plt.scatter([0 for _ in range(len(trusted_nodes_rank))], scale_up(trusted_nodes_rank))\n",
    "plt.scatter([1 for _ in range(len(estate_spam_rank))], scale_up(estate_spam_rank))\n",
    "plt.scatter([2 for _ in range(len(loan_spam_rank))], scale_up(loan_spam_rank))\n",
    "plt.scatter([3 for _ in range(len(debt_spam_rank))], scale_up(debt_spam_rank))\n",
    "plt.scatter([4 for _ in range(len(advert_spam_rank))], scale_up(advert_spam_rank))\n",
    "plt.scatter([5 for _ in range(len(cheat_spam_rank))], scale_up(cheat_spam_rank))\n",
    "plt.scatter([6 for _ in range(len(others_spam_rank))], scale_up(others_spam_rank))\n",
    "plt.legend(legend)\n",
    "plt.title('CallRank Distribution')\n",
    "plt.savefig('summary/CallRank Distribution.png', dpi=600)"
   ]
  },
  {
   "cell_type": "code",
   "execution_count": 281,
   "metadata": {
    "ExecuteTime": {
     "end_time": "2021-04-10T08:42:52.076755Z",
     "start_time": "2021-04-10T08:42:52.073661Z"
    }
   },
   "outputs": [],
   "source": [
    "def get_confidence_interval(sample, alpha=0.95):\n",
    "    return np.around(ss.poisson.interval(alpha, np.mean(sample), np.var(sample, ddof=1)), 4)"
   ]
  },
  {
   "cell_type": "code",
   "execution_count": 285,
   "metadata": {
    "ExecuteTime": {
     "end_time": "2021-04-10T08:43:22.903602Z",
     "start_time": "2021-04-10T08:43:22.878346Z"
    },
    "scrolled": true
   },
   "outputs": [
    {
     "name": "stdout",
     "output_type": "stream",
     "text": [
      "Trusted Users:  [13.5124 16.5124]\n",
      "Estate Spam User:  [0.1318 2.1318]\n",
      "Debt Spam User:  [0.6488 2.6488]\n",
      "Loan Spam User:  [0.1554 2.1554]\n",
      "Cheat Spam User:  [0.1318 2.1318]\n",
      "Advert Spam User:  [1.6086 3.6086]\n",
      "Others Spam User:  [3.5711 5.5711]\n"
     ]
    }
   ],
   "source": [
    "alpha = 0.95\n",
    "\n",
    "print(\"Trusted Users: \", get_confidence_interval(scale_up(trusted_nodes_rank), alpha))\n",
    "print(\"Estate Spam User: \", get_confidence_interval(scale_up(estate_spam_rank), alpha))\n",
    "print(\"Debt Spam User: \", get_confidence_interval(scale_up(debt_spam_rank), alpha))\n",
    "print(\"Loan Spam User: \", get_confidence_interval(scale_up(loan_spam_rank), alpha))\n",
    "print(\"Cheat Spam User: \", get_confidence_interval(scale_up(cheat_spam_rank), alpha))\n",
    "print(\"Advert Spam User: \", get_confidence_interval(scale_up(advert_spam_rank), alpha))\n",
    "print(\"Others Spam User: \", get_confidence_interval(scale_up(others_spam_rank), alpha))"
   ]
  },
  {
   "cell_type": "markdown",
   "metadata": {},
   "source": [
    "# Unlabeled Users"
   ]
  },
  {
   "cell_type": "code",
   "execution_count": 271,
   "metadata": {
    "ExecuteTime": {
     "end_time": "2021-04-10T08:27:38.516682Z",
     "start_time": "2021-04-10T08:27:38.229822Z"
    }
   },
   "outputs": [
    {
     "data": {
      "text/plain": [
       "(0.07840370203149138, 2.0784037020314914)"
      ]
     },
     "execution_count": 271,
     "metadata": {},
     "output_type": "execute_result"
    }
   ],
   "source": [
    "unlabeled_user = [v.index for v in g.vs if v['Type'] == -1]\n",
    "unlabeled_user_rank = [g.personalized_pagerank(unlabeled_user, weights=g.es['weights'])][0]\n",
    "get_confidence_interval(scale_up(unlabeled_user_rank), 0.95)"
   ]
  },
  {
   "cell_type": "code",
   "execution_count": 177,
   "metadata": {
    "ExecuteTime": {
     "end_time": "2021-04-10T07:42:02.628191Z",
     "start_time": "2021-04-10T07:42:02.620754Z"
    }
   },
   "outputs": [
    {
     "data": {
      "text/plain": [
       "278854"
      ]
     },
     "execution_count": 177,
     "metadata": {},
     "output_type": "execute_result"
    }
   ],
   "source": [
    "len(g.es)"
   ]
  },
  {
   "cell_type": "code",
   "execution_count": 232,
   "metadata": {
    "ExecuteTime": {
     "end_time": "2021-04-10T07:54:58.064177Z",
     "start_time": "2021-04-10T07:54:57.796136Z"
    }
   },
   "outputs": [
    {
     "data": {
      "text/plain": [
       "(array([4.70941145e-01, 1.57046646e-02, 9.82038521e-03, 5.92403804e-03,\n",
       "        3.77707123e-03, 2.70358783e-03, 1.43131120e-03, 1.66986307e-03,\n",
       "        1.23251798e-03, 6.75896958e-04, 8.34931536e-04, 2.78310512e-04,\n",
       "        4.37345090e-04, 4.77103735e-04, 2.78310512e-04, 2.38551867e-04,\n",
       "        1.19275934e-04, 1.59034578e-04, 7.95172892e-05, 1.59034578e-04,\n",
       "        3.97586446e-05, 7.95172892e-05, 3.97586446e-05, 1.19275934e-04,\n",
       "        0.00000000e+00, 3.97586446e-05, 1.19275934e-04, 3.97586446e-05,\n",
       "        3.97586446e-05, 3.97586446e-05, 7.95172892e-05, 3.97586446e-05,\n",
       "        0.00000000e+00, 0.00000000e+00, 0.00000000e+00, 0.00000000e+00,\n",
       "        3.97586446e-05, 7.95172892e-05, 3.97586446e-05, 3.97586446e-05,\n",
       "        3.97586446e-05, 3.97586446e-05, 0.00000000e+00, 3.97586446e-05,\n",
       "        0.00000000e+00, 3.97586446e-05, 0.00000000e+00, 0.00000000e+00,\n",
       "        0.00000000e+00, 0.00000000e+00, 0.00000000e+00, 0.00000000e+00,\n",
       "        3.97586446e-05, 3.97586446e-05, 0.00000000e+00, 0.00000000e+00,\n",
       "        0.00000000e+00, 0.00000000e+00, 0.00000000e+00, 0.00000000e+00,\n",
       "        0.00000000e+00, 0.00000000e+00, 0.00000000e+00, 0.00000000e+00,\n",
       "        0.00000000e+00, 0.00000000e+00, 0.00000000e+00, 0.00000000e+00,\n",
       "        0.00000000e+00, 3.97586446e-05]),\n",
       " array([  0.32148255,   2.25163087,   4.1817792 ,   6.11192753,\n",
       "          8.04207586,   9.97222418,  11.90237251,  13.83252084,\n",
       "         15.76266917,  17.6928175 ,  19.62296582,  21.55311415,\n",
       "         23.48326248,  25.41341081,  27.34355913,  29.27370746,\n",
       "         31.20385579,  33.13400412,  35.06415245,  36.99430077,\n",
       "         38.9244491 ,  40.85459743,  42.78474576,  44.71489408,\n",
       "         46.64504241,  48.57519074,  50.50533907,  52.43548739,\n",
       "         54.36563572,  56.29578405,  58.22593238,  60.15608071,\n",
       "         62.08622903,  64.01637736,  65.94652569,  67.87667402,\n",
       "         69.80682234,  71.73697067,  73.667119  ,  75.59726733,\n",
       "         77.52741566,  79.45756398,  81.38771231,  83.31786064,\n",
       "         85.24800897,  87.17815729,  89.10830562,  91.03845395,\n",
       "         92.96860228,  94.89875061,  96.82889893,  98.75904726,\n",
       "        100.68919559, 102.61934392, 104.54949224, 106.47964057,\n",
       "        108.4097889 , 110.33993723, 112.27008555, 114.20023388,\n",
       "        116.13038221, 118.06053054, 119.99067887, 121.92082719,\n",
       "        123.85097552, 125.78112385, 127.71127218, 129.6414205 ,\n",
       "        131.57156883, 133.50171716, 135.43186549]),\n",
       " <a list of 70 Patch objects>)"
      ]
     },
     "execution_count": 232,
     "metadata": {},
     "output_type": "execute_result"
    },
    {
     "data": {
      "image/png": "[encoded data removed]",
      "text/plain": [
       "<Figure size 432x288 with 1 Axes>"
      ]
     },
     "metadata": {
      "needs_background": "light"
     },
     "output_type": "display_data"
    }
   ],
   "source": [
    "plt.hist(scale_up(trusted_nodes_rank), bins=70, density=True)"
   ]
  },
  {
   "cell_type": "code",
   "execution_count": 259,
   "metadata": {
    "ExecuteTime": {
     "end_time": "2021-04-10T08:12:29.843286Z",
     "start_time": "2021-04-10T08:12:29.557073Z"
    }
   },
   "outputs": [],
   "source": [
    "vs_deg = [v.degree(mode = \"OUT\") for v in g.vs]\n",
    "total_out = sum(vs_deg)\n",
    "\n",
    "deg_dist = OrderedDict(sorted(Counter(vs_deg).items()))\n",
    "\n",
    "x_deg = list(chain.from_iterable(deg_dist.items()))[::2]\n",
    "y_deg = list(chain.from_iterable(deg_dist.items()))[1::2]"
   ]
  },
  {
   "cell_type": "code",
   "execution_count": 260,
   "metadata": {
    "ExecuteTime": {
     "end_time": "2021-04-10T08:12:57.353767Z",
     "start_time": "2021-04-10T08:12:57.350943Z"
    }
   },
   "outputs": [],
   "source": [
    "y_deg = list(map(lambda y: y/total_out, y_deg))"
   ]
  },
  {
   "cell_type": "code",
   "execution_count": 262,
   "metadata": {
    "ExecuteTime": {
     "end_time": "2021-04-10T08:13:29.148512Z",
     "start_time": "2021-04-10T08:13:19.097885Z"
    }
   },
   "outputs": [
    {
     "data": {
      "image/png": "[encoded data removed]",
      "text/plain": [
       "<Figure size 432x288 with 1 Axes>"
      ]
     },
     "metadata": {},
     "output_type": "display_data"
    }
   ],
   "source": [
    "plt.plot(x_deg[:10], y_deg[:10])\n",
    "plt.legend(['Degree Distribution'])\n",
    "plt.savefig('summary/Degree Distribution.png', dpi = 600)"
   ]
  },
  {
   "cell_type": "code",
   "execution_count": null,
   "metadata": {},
   "outputs": [],
   "source": []
  }
 ],
 "metadata": {
  "kernelspec": {
   "display_name": "grooo",
   "language": "python",
   "name": "grooo"
  },
  "varInspector": {
   "cols": {
    "lenName": 16,
    "lenType": 16,
    "lenVar": 40
   },
   "kernels_config": {
    "python": {
     "delete_cmd_postfix": "",
     "delete_cmd_prefix": "del ",
     "library": "var_list.py",
     "varRefreshCmd": "print(var_dic_list())"
    },
    "r": {
     "delete_cmd_postfix": ") ",
     "delete_cmd_prefix": "rm(",
     "library": "var_list.r",
     "varRefreshCmd": "cat(var_dic_list()) "
    }
   },
   "types_to_exclude": [
    "module",
    "function",
    "builtin_function_or_method",
    "instance",
    "_Feature"
   ],
   "window_display": false
  }
 },
 "nbformat": 4,
 "nbformat_minor": 4
}
