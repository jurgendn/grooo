{
 "cells": [
  {
   "cell_type": "code",
   "execution_count": 291,
   "metadata": {
    "ExecuteTime": {
     "end_time": "2021-04-10T09:12:37.742501Z",
     "start_time": "2021-04-10T09:12:37.739273Z"
    }
   },
   "outputs": [],
   "source": [
    "from collections import Counter, OrderedDict\n",
    "from importlib import reload\n",
    "from itertools import chain\n",
    "\n",
    "import matplotlib.pyplot as plt\n",
    "from igraph import Graph\n",
    "\n",
    "import script"
   ]
  },
  {
   "cell_type": "code",
   "execution_count": 338,
   "metadata": {
    "ExecuteTime": {
     "end_time": "2021-04-10T09:37:05.253586Z",
     "start_time": "2021-04-10T09:37:05.247296Z"
    }
   },
   "outputs": [
    {
     "data": {
      "text/plain": [
       "<module 'script' from '/media/jurgen/Documents/Subjects/IT/Projects Folder/Visual Studio Code/Python/Grooo/src/graph-based/src/code/script.py'>"
      ]
     },
     "execution_count": 338,
     "metadata": {},
     "output_type": "execute_result"
    }
   ],
   "source": [
    "reload(script)"
   ]
  },
  {
   "cell_type": "code",
   "execution_count": 294,
   "metadata": {
    "ExecuteTime": {
     "end_time": "2021-04-10T09:12:42.537935Z",
     "start_time": "2021-04-10T09:12:42.451241Z"
    }
   },
   "outputs": [],
   "source": [
    "plt.style.use('ggplot')"
   ]
  },
  {
   "cell_type": "markdown",
   "metadata": {},
   "source": [
    "# Create connection to the database"
   ]
  },
  {
   "cell_type": "code",
   "execution_count": 296,
   "metadata": {
    "ExecuteTime": {
     "end_time": "2021-04-10T09:14:09.023141Z",
     "start_time": "2021-04-10T09:14:08.987108Z"
    }
   },
   "outputs": [],
   "source": [
    "conn, engine, metadata = script.create_connection()"
   ]
  },
  {
   "cell_type": "code",
   "execution_count": 298,
   "metadata": {
    "ExecuteTime": {
     "end_time": "2021-04-10T09:18:19.354116Z",
     "start_time": "2021-04-10T09:18:19.269364Z"
    }
   },
   "outputs": [],
   "source": [
    "phone_list = script.get_connection('PhoneLabel', metadata, engine)\n",
    "edges_list = script.get_connection('SourceTargetTable', metadata, engine)"
   ]
  },
  {
   "cell_type": "markdown",
   "metadata": {},
   "source": [
    "# Query from PhoneLabel table to get vertices"
   ]
  },
  {
   "cell_type": "code",
   "execution_count": 4,
   "metadata": {
    "ExecuteTime": {
     "end_time": "2021-04-10T06:11:15.908176Z",
     "start_time": "2021-04-10T06:11:13.265729Z"
    }
   },
   "outputs": [],
   "source": [
    "query = sql.select([phone_list])\n",
    "\n",
    "users_list = pd.DataFrame(conn.execute(query).fetchall(),\n",
    "                          columns=['Id', 'Name', 'Type', 'IsMember'])"
   ]
  },
  {
   "cell_type": "markdown",
   "metadata": {},
   "source": []
  },
  {
   "cell_type": "code",
   "execution_count": 5,
   "metadata": {
    "ExecuteTime": {
     "end_time": "2021-04-10T06:11:16.003558Z",
     "start_time": "2021-04-10T06:11:15.977036Z"
    }
   },
   "outputs": [],
   "source": [
    "name = users_list['Name'].values.tolist()\n",
    "types = users_list['Type'].values.tolist()\n",
    "is_member = users_list['IsMember'].values.tolist()"
   ]
  },
  {
   "cell_type": "markdown",
   "metadata": {},
   "source": [
    "# Query from SourceEdgeTable to get edges"
   ]
  },
  {
   "cell_type": "code",
   "execution_count": 106,
   "metadata": {
    "ExecuteTime": {
     "end_time": "2021-04-10T07:10:30.723599Z",
     "start_time": "2021-04-10T07:10:28.686260Z"
    }
   },
   "outputs": [],
   "source": [
    "query = sql.select([\n",
    "    edges_list.columns.Source, edges_list.columns.Target,\n",
    "    sql.func.sum(edges_list.columns.Duration)\n",
    "]).where(edges_list.columns.EdgeType == 1).group_by(edges_list.columns.Source,\n",
    "                                                    edges_list.columns.Target)\n",
    "\n",
    "edges_df = pd.DataFrame(conn.execute(query).fetchall(),\n",
    "                        columns=['Source', 'Target', 'Duration'])"
   ]
  },
  {
   "cell_type": "code",
   "execution_count": 108,
   "metadata": {
    "ExecuteTime": {
     "end_time": "2021-04-10T07:10:55.368661Z",
     "start_time": "2021-04-10T07:10:54.670465Z"
    }
   },
   "outputs": [],
   "source": [
    "edges = pd.DataFrame(edges_df, columns=['Source', 'Target']).values.tolist()\n",
    "duration = edges_df['Duration'].values.tolist()\n",
    "\n",
    "edges = list(map(tuple, edges))"
   ]
  },
  {
   "cell_type": "code",
   "execution_count": 9,
   "metadata": {
    "ExecuteTime": {
     "end_time": "2021-04-10T06:11:27.010856Z",
     "start_time": "2021-04-10T06:11:27.006288Z"
    }
   },
   "outputs": [],
   "source": [
    "conn.close()"
   ]
  },
  {
   "cell_type": "markdown",
   "metadata": {},
   "source": [
    "# Graph Construction"
   ]
  },
  {
   "cell_type": "code",
   "execution_count": 180,
   "metadata": {
    "ExecuteTime": {
     "end_time": "2021-04-10T07:42:24.827148Z",
     "start_time": "2021-04-10T07:42:24.337355Z"
    }
   },
   "outputs": [],
   "source": [
    "g = Graph(directed=True)\n",
    "\n",
    "g.add_vertices(name, attributes={'Type': types, 'IsMember': is_member})\n",
    "g.add_edges(edges, attributes={'weights': duration})"
   ]
  },
  {
   "cell_type": "code",
   "execution_count": 184,
   "metadata": {
    "ExecuteTime": {
     "end_time": "2021-04-10T07:42:48.892855Z",
     "start_time": "2021-04-10T07:42:48.753629Z"
    }
   },
   "outputs": [],
   "source": [
    "zero_edges = [e.index for e in g.es if e['weights'] == 0]\n",
    "g.delete_edges(zero_edges)"
   ]
  },
  {
   "cell_type": "code",
   "execution_count": 181,
   "metadata": {
    "ExecuteTime": {
     "end_time": "2021-04-10T07:42:27.408300Z",
     "start_time": "2021-04-10T07:42:27.000522Z"
    }
   },
   "outputs": [],
   "source": [
    "vs_deg_0 = [v.index for v in g.vs if v.degree() == 0]\n",
    "g.delete_vertices(vs_deg_0)"
   ]
  },
  {
   "cell_type": "markdown",
   "metadata": {},
   "source": [
    "# Set Weights"
   ]
  },
  {
   "cell_type": "code",
   "execution_count": 301,
   "metadata": {
    "ExecuteTime": {
     "end_time": "2021-04-10T09:22:24.889599Z",
     "start_time": "2021-04-10T09:22:23.069590Z"
    }
   },
   "outputs": [],
   "source": [
    "query = sql.select([\n",
    "    edges_list.columns.Source,\n",
    "    sql.func.sum(edges_list.columns.Duration)\n",
    "]).where(edges_list.columns.EdgeType == 1).group_by(edges_list.columns.Source)\n",
    "\n",
    "# Convert to dict\n",
    "total_duration_users = dict(conn.execute(query).fetchall())\n",
    "\n",
    "# Set weight\n",
    "script.set_edges_weight(g, total_duration_users)"
   ]
  },
  {
   "cell_type": "code",
   "execution_count": 241,
   "metadata": {
    "ExecuteTime": {
     "end_time": "2021-04-10T08:02:17.415650Z",
     "start_time": "2021-04-10T08:02:14.062220Z"
    }
   },
   "outputs": [],
   "source": [
    "# Save the Graph to CallRank.graphml\n",
    "\n",
    "g.write_graphml('summary/CallRank.graphml')"
   ]
  },
  {
   "cell_type": "markdown",
   "metadata": {},
   "source": [
    "# Results"
   ]
  },
  {
   "cell_type": "code",
   "execution_count": 305,
   "metadata": {
    "ExecuteTime": {
     "end_time": "2021-04-10T09:24:16.391394Z",
     "start_time": "2021-04-10T09:24:15.935823Z"
    }
   },
   "outputs": [],
   "source": [
    "nodes_by_type = script.get_node_list(g)"
   ]
  },
  {
   "cell_type": "code",
   "execution_count": 310,
   "metadata": {
    "ExecuteTime": {
     "end_time": "2021-04-10T09:25:26.589695Z",
     "start_time": "2021-04-10T09:25:26.086359Z"
    }
   },
   "outputs": [],
   "source": [
    "ranks_per_type = script.get_call_rank(g, nodes_by_type)"
   ]
  },
  {
   "cell_type": "code",
   "execution_count": 315,
   "metadata": {
    "ExecuteTime": {
     "end_time": "2021-04-10T09:28:30.454250Z",
     "start_time": "2021-04-10T09:28:19.505196Z"
    },
    "scrolled": true
   },
   "outputs": [
    {
     "data": {
      "image/png": "[encoded data removed]",
      "text/plain": [
       "<Figure size 432x288 with 1 Axes>"
      ]
     },
     "metadata": {},
     "output_type": "display_data"
    }
   ],
   "source": [
    "legend = []\n",
    "for i, val in zip(range(len(ranks_per_type.items())), ranks_per_type.items()):\n",
    "    plt.scatter([i for _ in range(len(val[1]))], val[1])\n",
    "    legend.append(val[0])\n",
    "plt.legend(legend)\n",
    "plt.title('CallRank Distribution')\n",
    "plt.savefig('summary/CallRank Distribution.png', dpi=600)"
   ]
  },
  {
   "cell_type": "code",
   "execution_count": 337,
   "metadata": {
    "ExecuteTime": {
     "end_time": "2021-04-10T09:36:03.836746Z",
     "start_time": "2021-04-10T09:36:03.734844Z"
    },
    "scrolled": true
   },
   "outputs": [
    {
     "data": {
      "text/html": [
       "<div>\n",
       "<style scoped>\n",
       "    .dataframe tbody tr th:only-of-type {\n",
       "        vertical-align: middle;\n",
       "    }\n",
       "\n",
       "    .dataframe tbody tr th {\n",
       "        vertical-align: top;\n",
       "    }\n",
       "\n",
       "    .dataframe thead th {\n",
       "        text-align: right;\n",
       "    }\n",
       "</style>\n",
       "<table border=\"1\" class=\"dataframe\">\n",
       "  <thead>\n",
       "    <tr style=\"text-align: right;\">\n",
       "      <th></th>\n",
       "      <th>Type</th>\n",
       "      <th>Bound</th>\n",
       "      <th>Alpha</th>\n",
       "    </tr>\n",
       "  </thead>\n",
       "  <tbody>\n",
       "    <tr>\n",
       "      <th>0</th>\n",
       "      <td>Unlabeled Users</td>\n",
       "      <td>0.0784 - 2.0784</td>\n",
       "      <td>0.95</td>\n",
       "    </tr>\n",
       "    <tr>\n",
       "      <th>1</th>\n",
       "      <td>Trusted Users</td>\n",
       "      <td>13.3635 - 16.3635</td>\n",
       "      <td>0.95</td>\n",
       "    </tr>\n",
       "    <tr>\n",
       "      <th>2</th>\n",
       "      <td>Estate Spammers</td>\n",
       "      <td>1.041 - 3.041</td>\n",
       "      <td>0.95</td>\n",
       "    </tr>\n",
       "    <tr>\n",
       "      <th>3</th>\n",
       "      <td>LoanSpam</td>\n",
       "      <td>2.3371 - 4.3371</td>\n",
       "      <td>0.95</td>\n",
       "    </tr>\n",
       "    <tr>\n",
       "      <th>4</th>\n",
       "      <td>DebtSpam</td>\n",
       "      <td>0.288 - 2.288</td>\n",
       "      <td>0.95</td>\n",
       "    </tr>\n",
       "    <tr>\n",
       "      <th>5</th>\n",
       "      <td>CheatSpam</td>\n",
       "      <td>0.1918 - 2.1918</td>\n",
       "      <td>0.95</td>\n",
       "    </tr>\n",
       "    <tr>\n",
       "      <th>6</th>\n",
       "      <td>EstateSpam</td>\n",
       "      <td>0.0007 - 2.0007</td>\n",
       "      <td>0.95</td>\n",
       "    </tr>\n",
       "    <tr>\n",
       "      <th>7</th>\n",
       "      <td>Others</td>\n",
       "      <td>0.0652 - 2.0652</td>\n",
       "      <td>0.95</td>\n",
       "    </tr>\n",
       "  </tbody>\n",
       "</table>\n",
       "</div>"
      ],
      "text/plain": [
       "              Type              Bound  Alpha\n",
       "0  Unlabeled Users    0.0784 - 2.0784   0.95\n",
       "1    Trusted Users  13.3635 - 16.3635   0.95\n",
       "2  Estate Spammers      1.041 - 3.041   0.95\n",
       "3         LoanSpam    2.3371 - 4.3371   0.95\n",
       "4         DebtSpam      0.288 - 2.288   0.95\n",
       "5        CheatSpam    0.1918 - 2.1918   0.95\n",
       "6       EstateSpam    0.0007 - 2.0007   0.95\n",
       "7           Others    0.0652 - 2.0652   0.95"
      ]
     },
     "execution_count": 337,
     "metadata": {},
     "output_type": "execute_result"
    }
   ],
   "source": [
    "alpha = 0.95\n",
    "output = []\n",
    "\n",
    "for t, r in ranks_per_type.items():\n",
    "    ci = script.get_confidence_interval(script.scale_up(r), alpha)\n",
    "    output.append((t, '{} - {}'.format(ci[0], ci[1]), alpha))\n",
    "\n",
    "pd.DataFrame(output, columns=['Type', 'Bound', 'Alpha'])"
   ]
  },
  {
   "cell_type": "markdown",
   "metadata": {},
   "source": [
    "# Graph Attributes"
   ]
  },
  {
   "cell_type": "code",
   "execution_count": 259,
   "metadata": {
    "ExecuteTime": {
     "end_time": "2021-04-10T08:12:29.843286Z",
     "start_time": "2021-04-10T08:12:29.557073Z"
    }
   },
   "outputs": [],
   "source": [
    "vs_deg = [v.degree(mode=\"OUT\") for v in g.vs]\n",
    "total_out = sum(vs_deg)\n",
    "\n",
    "deg_dist = OrderedDict(sorted(Counter(vs_deg).items()))\n",
    "\n",
    "x_deg = list(chain.from_iterable(deg_dist.items()))[::2]\n",
    "y_deg = list(chain.from_iterable(deg_dist.items()))[1::2]"
   ]
  },
  {
   "cell_type": "code",
   "execution_count": 260,
   "metadata": {
    "ExecuteTime": {
     "end_time": "2021-04-10T08:12:57.353767Z",
     "start_time": "2021-04-10T08:12:57.350943Z"
    }
   },
   "outputs": [],
   "source": [
    "y_deg = list(map(lambda y: y / total_out, y_deg))"
   ]
  },
  {
   "cell_type": "code",
   "execution_count": null,
   "metadata": {
    "ExecuteTime": {
     "start_time": "2021-04-10T09:37:51.595Z"
    }
   },
   "outputs": [],
   "source": [
    "upper_limit = 20\n",
    "\n",
    "plt.plot(x_deg[:upper_limit], y_deg[:upper_limit])\n",
    "plt.legend(['Degree Distribution'])\n",
    "plt.savefig('summary/Degree Distribution.png', dpi=600)"
   ]
  },
  {
   "cell_type": "code",
   "execution_count": null,
   "metadata": {},
   "outputs": [],
   "source": []
  }
 ],
 "metadata": {
  "kernelspec": {
   "display_name": "grooo",
   "language": "python",
   "name": "grooo"
  },
  "varInspector": {
   "cols": {
    "lenName": 16,
    "lenType": 16,
    "lenVar": 40
   },
   "kernels_config": {
    "python": {
     "delete_cmd_postfix": "",
     "delete_cmd_prefix": "del ",
     "library": "var_list.py",
     "varRefreshCmd": "print(var_dic_list())"
    },
    "r": {
     "delete_cmd_postfix": ") ",
     "delete_cmd_prefix": "rm(",
     "library": "var_list.r",
     "varRefreshCmd": "cat(var_dic_list()) "
    }
   },
   "types_to_exclude": [
    "module",
    "function",
    "builtin_function_or_method",
    "instance",
    "_Feature"
   ],
   "window_display": false
  }
 },
 "nbformat": 4,
 "nbformat_minor": 4
}
