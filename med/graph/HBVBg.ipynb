{
 "cells": [
  {
   "cell_type": "code",
   "execution_count": 2,
   "metadata": {
    "ExecuteTime": {
     "end_time": "2021-05-13T22:14:11.325875Z",
     "start_time": "2021-05-13T22:14:06.209814Z"
    }
   },
   "outputs": [
    {
     "ename": "ModuleNotFoundError",
     "evalue": "No module named 'igraph'",
     "output_type": "error",
     "traceback": [
      "\u001b[1;31m---------------------------------------------------------------------------\u001b[0m",
      "\u001b[1;31mModuleNotFoundError\u001b[0m                       Traceback (most recent call last)",
      "\u001b[1;32m<ipython-input-2-b522179166f1>\u001b[0m in \u001b[0;36m<module>\u001b[1;34m\u001b[0m\n\u001b[1;32m----> 1\u001b[1;33m \u001b[1;32mfrom\u001b[0m \u001b[0migraph\u001b[0m \u001b[1;32mimport\u001b[0m \u001b[0mGraph\u001b[0m\u001b[1;33m,\u001b[0m \u001b[0mload\u001b[0m\u001b[1;33m\u001b[0m\u001b[1;33m\u001b[0m\u001b[0m\n\u001b[0m\u001b[0;32m      2\u001b[0m \u001b[1;32mimport\u001b[0m \u001b[0mpandas\u001b[0m \u001b[1;32mas\u001b[0m \u001b[0mpd\u001b[0m\u001b[1;33m\u001b[0m\u001b[1;33m\u001b[0m\u001b[0m\n\u001b[0;32m      3\u001b[0m \u001b[1;32mimport\u001b[0m \u001b[0mnumpy\u001b[0m \u001b[1;32mas\u001b[0m \u001b[0mnp\u001b[0m\u001b[1;33m\u001b[0m\u001b[1;33m\u001b[0m\u001b[0m\n\u001b[0;32m      4\u001b[0m \u001b[1;32mfrom\u001b[0m \u001b[0mitertools\u001b[0m \u001b[1;32mimport\u001b[0m \u001b[0mchain\u001b[0m\u001b[1;33m,\u001b[0m \u001b[0mproduct\u001b[0m\u001b[1;33m\u001b[0m\u001b[1;33m\u001b[0m\u001b[0m\n\u001b[0;32m      5\u001b[0m \u001b[1;32mfrom\u001b[0m \u001b[0mcollections\u001b[0m \u001b[1;32mimport\u001b[0m \u001b[0mCounter\u001b[0m\u001b[1;33m,\u001b[0m \u001b[0mdefaultdict\u001b[0m\u001b[1;33m\u001b[0m\u001b[1;33m\u001b[0m\u001b[0m\n",
      "\u001b[1;31mModuleNotFoundError\u001b[0m: No module named 'igraph'"
     ]
    }
   ],
   "source": [
    "from igraph import Graph, load\n",
    "import pandas as pd\n",
    "import numpy as np\n",
    "from itertools import chain, product\n",
    "from collections import Counter, defaultdict\n",
    "from operator import methodcaller\n",
    "\n",
    "from datetime import datetime, timedelta\n",
    "from copy import deepcopy\n",
    "import re\n",
    "\n",
    "import unicodedata"
   ]
  },
  {
   "cell_type": "code",
   "execution_count": 3,
   "metadata": {
    "ExecuteTime": {
     "end_time": "2021-05-13T22:14:11.898746Z",
     "start_time": "2021-05-13T22:14:11.895621Z"
    },
    "scrolled": true
   },
   "outputs": [],
   "source": [
    "def nrm(s, t='NFKC'):\n",
    "    return unicodedata.normalize(t, s)"
   ]
  },
  {
   "cell_type": "code",
   "execution_count": 5,
   "metadata": {
    "ExecuteTime": {
     "end_time": "2021-05-13T22:14:16.066315Z",
     "start_time": "2021-05-13T22:14:15.887074Z"
    }
   },
   "outputs": [],
   "source": [
    "df = pd.read_excel(\"input/od/tmp/BN-BG-HN-VP.xlsx\")"
   ]
  },
  {
   "cell_type": "code",
   "execution_count": 6,
   "metadata": {
    "ExecuteTime": {
     "end_time": "2021-05-13T22:14:16.131879Z",
     "start_time": "2021-05-13T22:14:16.125869Z"
    }
   },
   "outputs": [],
   "source": [
    "province = df['Tỉnh/TP'].values.tolist()\n",
    "province = list(map(nrm, province))\n",
    "province = list(map(lambda x: nrm(x, 'NFC'), province))\n",
    "\n",
    "district = df[\"Quận/Huyện\"].values.tolist()\n",
    "district = list(map(nrm, district))\n",
    "district = list(map(lambda x: nrm(x, 'NFC'), district))\n",
    "\n",
    "commune = df[\"Xã/Phường\"].values.tolist()\n",
    "commune = list(map(nrm, commune))\n",
    "district = list(map(lambda x: nrm(x, 'NFC'), district))\n",
    "\n",
    "node = df[\"Mã định danh\"].values.tolist()"
   ]
  },
  {
   "cell_type": "code",
   "execution_count": 7,
   "metadata": {
    "ExecuteTime": {
     "end_time": "2021-05-13T22:14:16.229097Z",
     "start_time": "2021-05-13T22:14:16.167313Z"
    }
   },
   "outputs": [],
   "source": [
    "neighbors = df[\"Lân cận\"].values.tolist()\n",
    "neighbors = list(map(lambda x: x.replace(\" \", \"\"), neighbors))\n",
    "neighbors = list(map(lambda x: x.split(\",\"), neighbors))\n",
    "\n",
    "edges_list = []\n",
    "for s, t in zip(node, neighbors):\n",
    "    t.extend([s])\n",
    "    edges_list.append(list(product([s], t)))\n",
    "\n",
    "edges_list = list(chain.from_iterable(edges_list))\n",
    "edges_list.extend(hn_bn_edges)\n",
    "edges_list.extend(vp_hn_edges)"
   ]
  },
  {
   "cell_type": "code",
   "execution_count": 1,
   "metadata": {
    "ExecuteTime": {
     "end_time": "2021-05-13T22:14:16.315998Z",
     "start_time": "2021-05-13T22:14:16.270170Z"
    }
   },
   "outputs": [
    {
     "ename": "NameError",
     "evalue": "name 'load' is not defined",
     "output_type": "error",
     "traceback": [
      "\u001b[1;31m---------------------------------------------------------------------------\u001b[0m",
      "\u001b[1;31mNameError\u001b[0m                                 Traceback (most recent call last)",
      "\u001b[1;32m<ipython-input-1-833e247c3081>\u001b[0m in \u001b[0;36m<module>\u001b[1;34m\u001b[0m\n\u001b[1;32m----> 1\u001b[1;33m \u001b[0mg\u001b[0m \u001b[1;33m=\u001b[0m \u001b[0mload\u001b[0m\u001b[1;33m(\u001b[0m\u001b[1;34m'graph.graphml'\u001b[0m\u001b[1;33m)\u001b[0m\u001b[1;33m\u001b[0m\u001b[1;33m\u001b[0m\u001b[0m\n\u001b[0m",
      "\u001b[1;31mNameError\u001b[0m: name 'load' is not defined"
     ]
    }
   ],
   "source": [
    "g = load('graph.graphml')"
   ]
  },
  {
   "cell_type": "markdown",
   "metadata": {
    "ExecuteTime": {
     "end_time": "2021-05-13T22:14:33.921810Z",
     "start_time": "2021-05-13T22:14:33.779975Z"
    }
   },
   "source": [
    "g.write_graphml(\"graph.graphml\")"
   ]
  },
  {
   "cell_type": "code",
   "execution_count": 10,
   "metadata": {
    "ExecuteTime": {
     "end_time": "2021-05-13T22:14:38.481485Z",
     "start_time": "2021-05-13T22:14:38.443353Z"
    }
   },
   "outputs": [],
   "source": [
    "def get_datetime(s):\n",
    "    return datetime.strptime(s, \"%d/%m/%Y\")\n",
    "\n",
    "\n",
    "def read_patient(path):\n",
    "    return pd.read_csv(path)\n",
    "\n",
    "\n",
    "def extract_data(df, start_date, end_date):\n",
    "    col = df.columns[0]\n",
    "    for idx, row in df.iterrows():\n",
    "        print(row.values.tolist()[0])\n",
    "\n",
    "\n",
    "def get_by_date(df, start_date, end_date):\n",
    "    dframe = []\n",
    "    for idx, row in df.iterrows():\n",
    "        if get_datetime(row[0]) >= start_date and get_datetime(\n",
    "                row[0]) <= end_date:\n",
    "            dframe.append(row.values.tolist())\n",
    "    return pd.DataFrame(dframe, columns=df.columns)\n",
    "\n",
    "\n",
    "def get_init_position(df, start_date, end_date):\n",
    "    dframe = get_by_date(df, start_date, end_date)\n",
    "    return dframe.groupby([\"Xã/Phường\", \"Quận/Huyện\",\n",
    "                           \"Tỉnh/TP\"]).count()[\"MCB\"].to_dict()\n",
    "\n",
    "\n",
    "def generate_init(g, starts, n_samples):\n",
    "    p_id = []\n",
    "    #     print(starts)\n",
    "    for k, v in starts.items():\n",
    "        try:\n",
    "            p_id.append([[\n",
    "                g.vs.find(commune=k[0],\n",
    "                          district=k[1],\n",
    "                          province=k[2]).index\n",
    "            ] for _ in range(v)])\n",
    "        except:\n",
    "            print(k, v)\n",
    "\n",
    "    init_state = []\n",
    "    for pid in p_id:\n",
    "        for pidd in pid:\n",
    "            init_state.append(pidd)\n",
    "\n",
    "    n_samples = n_samples\n",
    "\n",
    "    return [deepcopy(init_state) for _ in range(n_samples)]\n",
    "\n",
    "\n",
    "def random_walk(g, start, n_samples, n_steps):\n",
    "    walks_tracking = generate_init(g, start, n_samples)\n",
    "    for walk in walks_tracking:\n",
    "        for i in range(len(walk)):\n",
    "            try:\n",
    "                r_walk = g.random_walk(walk[i][0], n_steps, mode=\"ALL\")\n",
    "                walk[i] = r_walk\n",
    "            except:\n",
    "                print(walk[i])\n",
    "    return np.array(walks_tracking)\n",
    "\n",
    "\n",
    "def walk_simulation(g, dt, n_samples, n_steps, start_date, end_date):\n",
    "    starts = get_init_position(dt, start_date, end_date)\n",
    "    walks_tracking = generate_init(g, starts, n_samples)\n",
    "\n",
    "    return random_walk(g, starts, n_samples, n_steps)\n",
    "\n",
    "\n",
    "def loop(g, dt, n_samples, n_steps, start_date, end_date, time_window_size=15):\n",
    "    start = get_datetime(start_date) - timedelta(days=time_window_size)\n",
    "    end = get_datetime(end_date)\n",
    "    result = {}\n",
    "    while start + timedelta(days=time_window_size) <= end:\n",
    "        end_tmp = start + timedelta(days=time_window_size)\n",
    "        tmp = walk_simulation(g, dt, n_samples, n_steps, start, end_tmp)\n",
    "        result[datetime.strftime(end_tmp, \"%d/%m/%Y\")] = tmp\n",
    "        start += timedelta(days=1)\n",
    "    return result\n",
    "\n",
    "\n",
    "def get_loc_tuple(g):\n",
    "    loc = {}\n",
    "    for v in g.vs:\n",
    "        comm = v[\"commune\"]\n",
    "        dist = v[\"district\"]\n",
    "        tmp = (comm, dist)\n",
    "        loc[tmp] = [comm, dist]\n",
    "    return loc\n",
    "\n",
    "\n",
    "def result_processing(result):\n",
    "    result_clone = deepcopy(result)\n",
    "    try:\n",
    "        result_clone = result_clone.reshape([\n",
    "            1,\n",
    "            len(result_clone[0]) * len(result_clone) * len(result_clone[0][0])\n",
    "        ])[0]\n",
    "        res = Counter(result_clone)\n",
    "    except:\n",
    "        res = {k: 0 for k in range(1, 581)}\n",
    "\n",
    "    loc_list = {}\n",
    "\n",
    "    for k, v in res.items():\n",
    "        comm = g.vs[k][\"commune\"]\n",
    "        dist = g.vs[k][\"district\"]\n",
    "        prov = g.vs[k]['province']\n",
    "        loc_list[tuple([comm, dist, prov])] = v\n",
    "\n",
    "    for c, d, p in zip(commune, district, province):\n",
    "        if tuple([c, d, p]) not in loc_list.keys():\n",
    "            loc_list[tuple([c, d, p])] = 0\n",
    "\n",
    "    ddff = {}\n",
    "    for k, v in loc_list.items():\n",
    "        ddff[k] = v\n",
    "    return ddff\n",
    "\n",
    "\n",
    "def merge_dict(*d):\n",
    "    # initialise defaultdict of lists\n",
    "    dd = defaultdict(list)\n",
    "\n",
    "    # iterate dictionary items\n",
    "    dict_items = map(methodcaller(\"items\"), (tuple([*d])))\n",
    "    for k, v in chain.from_iterable(dict_items):\n",
    "        dd[k].extend([v])\n",
    "    return dd\n",
    "\n",
    "\n",
    "def storage_processing(results):\n",
    "    final = {}\n",
    "    tmp = []\n",
    "    columns = [\"Xa/Phuong\", \"Quan/Huyen\", \"Tinh/TP\"]\n",
    "    for date, val in results.items():\n",
    "        tmp.append(result_processing(val))\n",
    "        columns.append(date)\n",
    "    final = merge_dict(*tmp)\n",
    "    for k, v in final.items():\n",
    "        final[k].insert(0, k[0])\n",
    "        final[k].insert(1, k[1])\n",
    "        final[k].insert(2, k[2])\n",
    "    return final, columns\n",
    "\n",
    "\n",
    "def get_dataframe(final, col):\n",
    "    data = pd.DataFrame.from_dict(final).values\n",
    "    for i in range(2, len(data)):\n",
    "        try:\n",
    "            data[i] = list(map(lambda x: int(x) * 100 / sum(data[i]), data[i]))\n",
    "        except:\n",
    "            pass\n",
    "    risk_evaluation = pd.DataFrame(data.transpose(), columns=col)\n",
    "    return risk_evaluation\n",
    "\n",
    "\n",
    "def gen_csv(results):\n",
    "    final, columns = storage_processing(results)\n",
    "\n",
    "    risk = get_dataframe(final, columns)\n",
    "    #     risk.to_csv(\"output/BacNinh_commune.csv\", index=False)\n",
    "    risk.to_excel(\"output/BacNinh-HaNoi-VP_commune.xls\", index=False)\n",
    "\n",
    "    #     (risk.groupby(by=[\"Quan/Huyen\"]).sum()).to_csv(\"output/BacNinh_district.csv\")\n",
    "    (risk.groupby(by=[\"Quan/Huyen\"]).sum()\n",
    "     ).to_excel(\"output/BacNinh-HaNoi-VP_district.xls\")\n",
    "    (risk.groupby(\n",
    "        by=[\"Tinh/TP\"]).sum()).to_excel(\"output/BacNinh-HaNoi-VP_province.xls\")\n",
    "    return True"
   ]
  },
  {
   "cell_type": "code",
   "execution_count": 11,
   "metadata": {
    "ExecuteTime": {
     "end_time": "2021-05-13T22:14:39.310618Z",
     "start_time": "2021-05-13T22:14:39.236520Z"
    }
   },
   "outputs": [],
   "source": [
    "patients = pd.read_excel('input/patients/HN_BN_VP_BG-patients.xls')"
   ]
  },
  {
   "cell_type": "code",
   "execution_count": 12,
   "metadata": {
    "ExecuteTime": {
     "end_time": "2021-05-13T22:14:39.666973Z",
     "start_time": "2021-05-13T22:14:39.658457Z"
    }
   },
   "outputs": [],
   "source": [
    "comm = patients['Xã/Phường'].values\n",
    "dist = patients['Quận/Huyện'].values\n",
    "prv = patients['Tỉnh/TP'].values\n",
    "\n",
    "comm = list(map(nrm, comm))\n",
    "dist = list(map(nrm, dist))\n",
    "prv = list(map(nrm, prv))\n",
    "\n",
    "patients['Xã/Phường'] = comm\n",
    "patients['Quận/Huyện'] = dist\n",
    "patients['Tỉnh/TP'] = prv"
   ]
  },
  {
   "cell_type": "code",
   "execution_count": null,
   "metadata": {
    "ExecuteTime": {
     "start_time": "2021-05-13T22:14:40.817Z"
    },
    "scrolled": true
   },
   "outputs": [],
   "source": [
    "risk_result = loop(g, patients, 10000, 20, \"8/5/2021\", \"18/5/2021\", 6)\n",
    "\n",
    "gen_csv(risk_result)"
   ]
  },
  {
   "cell_type": "markdown",
   "metadata": {
    "ExecuteTime": {
     "end_time": "2021-05-09T15:38:25.770562Z",
     "start_time": "2021-05-09T15:38:25.695309Z"
    }
   },
   "source": [
    "```python\n",
    "df = pd.read_csv(\"od_commune.csv\")\n",
    "\n",
    "idx = df['Mã định danh']\n",
    "neighbors = df['Lân cận']\n",
    "\n",
    "idx = list(map(lambda x: \"HN{}\".format(x), idx))\n",
    "df['Mã định danh'] = idx\n",
    "\n",
    "n_tmp = list(map(lambda x: x.split(\",\"), neighbors))\n",
    "\n",
    "for i, tmp in enumerate(n_tmp):\n",
    "    n_tmp[i] = \",\".join(list(map(lambda x: \"HN{}\".format(x), tmp)))\n",
    "\n",
    "df['Lân cận']=n_tmp\n",
    "\n",
    "df.to_excel(\"HN_od.xls\", index=False)\n",
    "```"
   ]
  },
  {
   "cell_type": "code",
   "execution_count": 9,
   "metadata": {
    "ExecuteTime": {
     "end_time": "2021-05-11T20:17:59.883267Z",
     "start_time": "2021-05-11T20:17:59.274623Z"
    },
    "scrolled": true
   },
   "outputs": [],
   "source": [
    "df = pd.read_excel(\"input/od/tmp/VP.xls\")\n",
    "\n",
    "idx = df['Mã định danh']\n",
    "neighbors = df['Lân cận']\n",
    "\n",
    "idx = list(map(lambda x: \"VP{}\".format(x), idx))\n",
    "df['Mã định danh'] = idx\n",
    "\n",
    "n_tmp = list(map(lambda x: x.split(\",\"), neighbors))\n",
    "\n",
    "for i, tmp in enumerate(n_tmp):\n",
    "    n_tmp[i] = \",\".join(list(map(lambda x: \"VP{}\".format(x), tmp)))\n",
    "\n",
    "df['Lân cận'] = n_tmp\n",
    "\n",
    "df.to_excel(\"VP.xls\", index=False)"
   ]
  },
  {
   "cell_type": "code",
   "execution_count": null,
   "metadata": {},
   "outputs": [],
   "source": []
  }
 ],
 "metadata": {
  "kernelspec": {
   "display_name": "Python 3",
   "language": "python",
   "name": "python3"
  },
  "language_info": {
   "codemirror_mode": {
    "name": "ipython",
    "version": 3
   },
   "file_extension": ".py",
   "mimetype": "text/x-python",
   "name": "python",
   "nbconvert_exporter": "python",
   "pygments_lexer": "ipython3",
   "version": "3.9.5"
  },
  "varInspector": {
   "cols": {
    "lenName": 16,
    "lenType": 16,
    "lenVar": 40
   },
   "kernels_config": {
    "python": {
     "delete_cmd_postfix": "",
     "delete_cmd_prefix": "del ",
     "library": "var_list.py",
     "varRefreshCmd": "print(var_dic_list())"
    },
    "r": {
     "delete_cmd_postfix": ") ",
     "delete_cmd_prefix": "rm(",
     "library": "var_list.r",
     "varRefreshCmd": "cat(var_dic_list()) "
    }
   },
   "types_to_exclude": [
    "module",
    "function",
    "builtin_function_or_method",
    "instance",
    "_Feature"
   ],
   "window_display": false
  }
 },
 "nbformat": 4,
 "nbformat_minor": 4
}
