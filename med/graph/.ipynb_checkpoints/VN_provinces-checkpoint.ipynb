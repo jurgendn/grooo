{
 "cells": [
  {
   "cell_type": "code",
   "execution_count": 10,
   "metadata": {
    "ExecuteTime": {
     "end_time": "2021-05-10T16:35:24.330328Z",
     "start_time": "2021-05-10T16:35:24.322317Z"
    }
   },
   "outputs": [],
   "source": [
    "import numpy as np\n",
    "from igraph import Graph\n",
    "from igraph import load as grload\n",
    "import json\n",
    "import pandas as pd\n",
    "\n",
    "from itertools import chain\n",
    "from copy import deepcopy\n",
    "from datetime import datetime, timedelta\n",
    "from collections import Counter\n",
    "\n",
    "from importlib import reload\n",
    "import script"
   ]
  },
  {
   "cell_type": "code",
   "execution_count": 2,
   "metadata": {
    "ExecuteTime": {
     "end_time": "2021-05-10T16:32:02.822441Z",
     "start_time": "2021-05-10T16:32:02.669376Z"
    }
   },
   "outputs": [],
   "source": [
    "od_matrix = pd.read_csv(\"input/od/od_by_provinces.csv\")\n",
    "df = pd.DataFrame(od_matrix,\n",
    "                  columns=['Tỉnh xuất phát', 'Tỉnh đích', 'Unnamed: 0'])\n",
    "df = df.rename(columns={'Unnamed: 0': 'Khách trung bình'})"
   ]
  },
  {
   "cell_type": "code",
   "execution_count": 3,
   "metadata": {
    "ExecuteTime": {
     "end_time": "2021-05-10T16:32:03.271697Z",
     "start_time": "2021-05-10T16:32:03.267800Z"
    }
   },
   "outputs": [],
   "source": [
    "sources = df['Tỉnh xuất phát'].values.tolist()\n",
    "targets = df['Tỉnh đích'].values.tolist()\n",
    "flows = df['Khách trung bình'].values.tolist()"
   ]
  },
  {
   "cell_type": "code",
   "execution_count": 4,
   "metadata": {
    "ExecuteTime": {
     "end_time": "2021-05-10T16:32:03.851297Z",
     "start_time": "2021-05-10T16:32:03.845881Z"
    }
   },
   "outputs": [],
   "source": [
    "edges = [(s, t) for s, t in zip(sources, targets)]"
   ]
  },
  {
   "cell_type": "code",
   "execution_count": 5,
   "metadata": {
    "ExecuteTime": {
     "end_time": "2021-05-10T16:32:04.386806Z",
     "start_time": "2021-05-10T16:32:04.382759Z"
    }
   },
   "outputs": [],
   "source": [
    "provinces = list(set(sources).union(set(targets)))"
   ]
  },
  {
   "cell_type": "markdown",
   "metadata": {},
   "source": [
    "provinces = pd.read_csv('input/maps/provinces.csv').values.tolist()\n",
    "provinces = list(chain.from_iterable(provinces))"
   ]
  },
  {
   "cell_type": "code",
   "execution_count": 6,
   "metadata": {
    "ExecuteTime": {
     "end_time": "2021-05-10T16:32:05.166486Z",
     "start_time": "2021-05-10T16:32:05.142002Z"
    }
   },
   "outputs": [],
   "source": [
    "g = Graph(directed=True)"
   ]
  },
  {
   "cell_type": "code",
   "execution_count": 7,
   "metadata": {
    "ExecuteTime": {
     "end_time": "2021-05-10T16:32:05.491726Z",
     "start_time": "2021-05-10T16:32:05.487067Z"
    }
   },
   "outputs": [],
   "source": [
    "g.add_vertices(provinces, attributes={'province': provinces})\n",
    "g.add_edges(edges, attributes={'weights': flows})"
   ]
  },
  {
   "cell_type": "code",
   "execution_count": 8,
   "metadata": {
    "ExecuteTime": {
     "end_time": "2021-05-10T16:32:34.622567Z",
     "start_time": "2021-05-10T16:32:34.389055Z"
    }
   },
   "outputs": [],
   "source": [
    "g.write_graphml('input/od/graph.graphml')"
   ]
  },
  {
   "cell_type": "code",
   "execution_count": 11,
   "metadata": {
    "ExecuteTime": {
     "end_time": "2021-05-10T16:35:38.609282Z",
     "start_time": "2021-05-10T16:35:38.436872Z"
    }
   },
   "outputs": [],
   "source": [
    "g = grload('input/od/graph.graphml')"
   ]
  },
  {
   "cell_type": "code",
   "execution_count": 12,
   "metadata": {
    "ExecuteTime": {
     "end_time": "2021-05-10T16:35:43.623976Z",
     "start_time": "2021-05-10T16:35:43.602302Z"
    }
   },
   "outputs": [
    {
     "data": {
      "text/plain": [
       "['Phú Yên',\n",
       " 'Phú Thọ',\n",
       " 'Bắc Kạn',\n",
       " 'Lạng Sơn',\n",
       " 'Cao Bằng',\n",
       " 'Ninh Thuận',\n",
       " 'Quảng Trị',\n",
       " 'Điện Biên',\n",
       " 'Vĩnh Phúc',\n",
       " 'Đăk Lăk',\n",
       " 'An Giang',\n",
       " 'Nam Định',\n",
       " 'Bình Phước',\n",
       " 'Sơn La',\n",
       " 'Quảng Ngãi',\n",
       " 'Thái Bình',\n",
       " 'Bà Rịa Vũng Tàu',\n",
       " 'Kon Tum',\n",
       " 'Hải Dương',\n",
       " 'Long An',\n",
       " 'Hà Nam',\n",
       " 'Thái Nguyên',\n",
       " 'Hà Nội',\n",
       " 'TP. Hồ Chí Minh',\n",
       " 'Đồng Nai',\n",
       " 'Cần Thơ',\n",
       " 'Tuyên Quang',\n",
       " 'Đà Nẵng',\n",
       " 'Bình Thuận',\n",
       " 'Nghệ An',\n",
       " 'Lào Cai',\n",
       " 'Hưng Yên',\n",
       " 'Thanh Hóa',\n",
       " 'Đồng Tháp',\n",
       " 'Đăk Nông',\n",
       " 'Kiên Giang',\n",
       " 'Lai Châu',\n",
       " 'Quảng Bình',\n",
       " 'Quảng Nam',\n",
       " 'Trà Vinh',\n",
       " 'Khánh Hòa',\n",
       " 'Hải Phòng',\n",
       " 'Hà Tĩnh',\n",
       " 'Tây Ninh',\n",
       " 'Ninh Bình',\n",
       " 'Lâm Đồng',\n",
       " 'Bến Tre',\n",
       " 'Sóc Trăng',\n",
       " 'Hậu Giang',\n",
       " 'Hòa Bình',\n",
       " 'Hà Giang',\n",
       " 'Tiền Giang',\n",
       " 'Vĩnh Long',\n",
       " 'Gia Lai',\n",
       " 'Thừa Thiên Huế',\n",
       " 'Bạc Liêu',\n",
       " 'Bình Định',\n",
       " 'Cà Mau',\n",
       " 'Bắc Ninh',\n",
       " 'Bắc Giang',\n",
       " 'Quảng Ninh',\n",
       " 'Yên Bái',\n",
       " 'Bình Dương']"
      ]
     },
     "execution_count": 12,
     "metadata": {},
     "output_type": "execute_result"
    }
   ],
   "source": [
    "g.vs['name']"
   ]
  },
  {
   "cell_type": "code",
   "execution_count": 9,
   "metadata": {
    "ExecuteTime": {
     "end_time": "2021-05-10T16:32:45.764724Z",
     "start_time": "2021-05-10T16:32:45.436999Z"
    }
   },
   "outputs": [],
   "source": [
    "patients = pd.read_excel('input/patients/patients.xls')\n",
    "mcb = patients['name']\n",
    "prv = patients['province']"
   ]
  },
  {
   "cell_type": "markdown",
   "metadata": {},
   "source": [
    "# Src code"
   ]
  },
  {
   "cell_type": "code",
   "execution_count": 89,
   "metadata": {
    "ExecuteTime": {
     "end_time": "2021-05-08T15:31:12.283738Z",
     "start_time": "2021-05-08T15:28:22.720436Z"
    }
   },
   "outputs": [],
   "source": [
    "results = script.loop(g, patients, 10000, 5, '01/05/2021', '12/05/2021', 6)\n",
    "\n",
    "results = script.results_from_loop(g, results)"
   ]
  },
  {
   "cell_type": "code",
   "execution_count": 69,
   "metadata": {
    "ExecuteTime": {
     "end_time": "2021-05-08T15:25:28.594483Z",
     "start_time": "2021-05-08T15:25:28.587077Z"
    },
    "scrolled": true
   },
   "outputs": [
    {
     "data": {
      "text/plain": [
       "<module 'script' from '/media/jurgen/Documents/Subjects/IT/Github_Repositories/epidemic_model_simulation/server/data/HN/Commune_Graph/VN/script.py'>"
      ]
     },
     "execution_count": 69,
     "metadata": {},
     "output_type": "execute_result"
    }
   ],
   "source": [
    "reload(script)"
   ]
  },
  {
   "cell_type": "code",
   "execution_count": 90,
   "metadata": {
    "ExecuteTime": {
     "end_time": "2021-05-08T15:31:41.808454Z",
     "start_time": "2021-05-08T15:31:41.802513Z"
    }
   },
   "outputs": [],
   "source": [
    "cols = [x[0] for x in results]\n",
    "\n",
    "vals = [x[1] for x in results]\n",
    "\n",
    "risks = {p: [p] for p in provinces}\n",
    "\n",
    "for d in vals:\n",
    "    for item in d:\n",
    "        risks[item[0]].append(item[1])\n",
    "\n",
    "vals = list(risks.values())\n",
    "\n",
    "vals = list(map(tuple, vals))"
   ]
  },
  {
   "cell_type": "code",
   "execution_count": 91,
   "metadata": {
    "ExecuteTime": {
     "end_time": "2021-05-08T15:31:43.961704Z",
     "start_time": "2021-05-08T15:31:43.679276Z"
    }
   },
   "outputs": [],
   "source": [
    "pd.DataFrame(vals, columns=['Provinces'] + cols).to_excel(\n",
    "    'ouput/Vietnam_timeframe.xls', index=False)"
   ]
  },
  {
   "cell_type": "code",
   "execution_count": null,
   "metadata": {},
   "outputs": [],
   "source": []
  }
 ],
 "metadata": {
  "kernelspec": {
   "display_name": "Python 3",
   "language": "python",
   "name": "python3"
  },
  "language_info": {
   "codemirror_mode": {
    "name": "ipython",
    "version": 3
   },
   "file_extension": ".py",
   "mimetype": "text/x-python",
   "name": "python",
   "nbconvert_exporter": "python",
   "pygments_lexer": "ipython3",
   "version": "3.9.5"
  },
  "varInspector": {
   "cols": {
    "lenName": 16,
    "lenType": 16,
    "lenVar": 40
   },
   "kernels_config": {
    "python": {
     "delete_cmd_postfix": "",
     "delete_cmd_prefix": "del ",
     "library": "var_list.py",
     "varRefreshCmd": "print(var_dic_list())"
    },
    "r": {
     "delete_cmd_postfix": ") ",
     "delete_cmd_prefix": "rm(",
     "library": "var_list.r",
     "varRefreshCmd": "cat(var_dic_list()) "
    }
   },
   "types_to_exclude": [
    "module",
    "function",
    "builtin_function_or_method",
    "instance",
    "_Feature"
   ],
   "window_display": false
  }
 },
 "nbformat": 4,
 "nbformat_minor": 4
}
