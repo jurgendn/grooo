{
 "cells": [
  {
   "cell_type": "code",
   "execution_count": 2,
   "metadata": {
    "ExecuteTime": {
     "end_time": "2021-05-10T16:37:51.423346Z",
     "start_time": "2021-05-10T16:37:50.679759Z"
    }
   },
   "outputs": [],
   "source": [
    "import numpy as np\n",
    "from igraph import Graph\n",
    "from igraph import load as grload\n",
    "import json\n",
    "import pandas as pd\n",
    "\n",
    "from itertools import chain\n",
    "from copy import deepcopy\n",
    "from datetime import datetime, timedelta\n",
    "from collections import Counter\n",
    "\n",
    "from importlib import reload\n",
    "import script"
   ]
  },
  {
   "cell_type": "code",
   "execution_count": 3,
   "metadata": {
    "ExecuteTime": {
     "end_time": "2021-05-10T16:37:52.163419Z",
     "start_time": "2021-05-10T16:37:52.155569Z"
    }
   },
   "outputs": [],
   "source": [
    "g = grload('input/od/graph.graphml')"
   ]
  },
  {
   "cell_type": "code",
   "execution_count": 15,
   "metadata": {
    "ExecuteTime": {
     "end_time": "2021-05-10T18:08:50.899166Z",
     "start_time": "2021-05-10T18:08:50.896677Z"
    }
   },
   "outputs": [],
   "source": [
    "provinces = [v['province'] for v in g.vs]"
   ]
  },
  {
   "cell_type": "code",
   "execution_count": 11,
   "metadata": {
    "ExecuteTime": {
     "end_time": "2021-05-10T18:07:27.546472Z",
     "start_time": "2021-05-10T18:07:27.234928Z"
    }
   },
   "outputs": [],
   "source": [
    "patients = pd.read_excel('input/patients/patients.xls')\n",
    "mcb = patients['name']\n",
    "prv = patients['province']"
   ]
  },
  {
   "cell_type": "markdown",
   "metadata": {},
   "source": [
    "# Src code"
   ]
  },
  {
   "cell_type": "code",
   "execution_count": 18,
   "metadata": {
    "ExecuteTime": {
     "end_time": "2021-05-10T18:13:27.750315Z",
     "start_time": "2021-05-10T18:09:03.072661Z"
    }
   },
   "outputs": [],
   "source": [
    "results = script.loop(g, patients, 15000, 5, '01/05/2021', '12/05/2021', 6)\n",
    "\n",
    "results = script.results_from_loop(g, results)"
   ]
  },
  {
   "cell_type": "code",
   "execution_count": 19,
   "metadata": {
    "ExecuteTime": {
     "end_time": "2021-05-10T18:13:29.000169Z",
     "start_time": "2021-05-10T18:13:28.627229Z"
    },
    "scrolled": true
   },
   "outputs": [
    {
     "data": {
      "text/plain": [
       "<module 'script' from '/media/jurgen/Documents/Subjects/IT/Github_Repositories/epidemic_model_simulation/server/data/HN/Commune_Graph/VN/script.py'>"
      ]
     },
     "execution_count": 19,
     "metadata": {},
     "output_type": "execute_result"
    }
   ],
   "source": [
    "reload(script)"
   ]
  },
  {
   "cell_type": "code",
   "execution_count": 20,
   "metadata": {
    "ExecuteTime": {
     "end_time": "2021-05-10T18:13:29.047099Z",
     "start_time": "2021-05-10T18:13:29.042176Z"
    }
   },
   "outputs": [],
   "source": [
    "cols = [x[0] for x in results]\n",
    "\n",
    "vals = [x[1] for x in results]\n",
    "\n",
    "risks = {p: [p] for p in provinces}\n",
    "\n",
    "for d in vals:\n",
    "    for item in d:\n",
    "        risks[item[0]].append(item[1])\n",
    "\n",
    "vals = list(risks.values())\n",
    "\n",
    "vals = list(map(tuple, vals))"
   ]
  },
  {
   "cell_type": "code",
   "execution_count": 21,
   "metadata": {
    "ExecuteTime": {
     "end_time": "2021-05-10T18:13:29.336655Z",
     "start_time": "2021-05-10T18:13:29.087316Z"
    }
   },
   "outputs": [],
   "source": [
    "pd.DataFrame(vals, columns=['Provinces'] + cols).to_excel(\n",
    "    'ouput/Vietnam_timeframe.xls', index=False)"
   ]
  },
  {
   "cell_type": "code",
   "execution_count": null,
   "metadata": {},
   "outputs": [],
   "source": []
  }
 ],
 "metadata": {
  "kernelspec": {
   "display_name": "Python 3",
   "language": "python",
   "name": "python3"
  },
  "language_info": {
   "codemirror_mode": {
    "name": "ipython",
    "version": 3
   },
   "file_extension": ".py",
   "mimetype": "text/x-python",
   "name": "python",
   "nbconvert_exporter": "python",
   "pygments_lexer": "ipython3",
   "version": "3.9.5"
  },
  "varInspector": {
   "cols": {
    "lenName": 16,
    "lenType": 16,
    "lenVar": 40
   },
   "kernels_config": {
    "python": {
     "delete_cmd_postfix": "",
     "delete_cmd_prefix": "del ",
     "library": "var_list.py",
     "varRefreshCmd": "print(var_dic_list())"
    },
    "r": {
     "delete_cmd_postfix": ") ",
     "delete_cmd_prefix": "rm(",
     "library": "var_list.r",
     "varRefreshCmd": "cat(var_dic_list()) "
    }
   },
   "types_to_exclude": [
    "module",
    "function",
    "builtin_function_or_method",
    "instance",
    "_Feature"
   ],
   "window_display": false
  }
 },
 "nbformat": 4,
 "nbformat_minor": 4
}
